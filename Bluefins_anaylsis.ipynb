{
  "nbformat": 4,
  "nbformat_minor": 0,
  "metadata": {
    "colab": {
      "private_outputs": true,
      "provenance": [],
      "gpuType": "T4",
      "authorship_tag": "ABX9TyPBiq1jIMUimp3sVYhK3V//",
      "include_colab_link": true
    },
    "kernelspec": {
      "name": "python3",
      "display_name": "Python 3"
    },
    "language_info": {
      "name": "python"
    },
    "accelerator": "GPU"
  },
  "cells": [
    {
      "cell_type": "markdown",
      "metadata": {
        "id": "view-in-github",
        "colab_type": "text"
      },
      "source": [
        "<a href=\"https://colab.research.google.com/github/adrianyang2012/Bluefins_Analysis/blob/main/Bluefins_anaylsis.ipynb\" target=\"_parent\"><img src=\"https://colab.research.google.com/assets/colab-badge.svg\" alt=\"Open In Colab\"/></a>"
      ]
    },
    {
      "cell_type": "markdown",
      "source": [
        "Reading in the data"
      ],
      "metadata": {
        "id": "R_04UooGSSaH"
      }
    },
    {
      "cell_type": "code",
      "execution_count": null,
      "metadata": {
        "id": "tGrFZ9YiNrT2"
      },
      "outputs": [],
      "source": [
        "import csv\n",
        "with open(\"Bluefins_data.csv\",\"r\") as file:\n",
        "  all_data = list(csv.DictReader(file))\n"
      ]
    },
    {
      "cell_type": "code",
      "source": [
        "print(len(all_data))"
      ],
      "metadata": {
        "id": "47eIO1XuSP-e"
      },
      "execution_count": null,
      "outputs": []
    },
    {
      "cell_type": "code",
      "source": [
        "new_data = {}\n",
        "current_person = all_data[0]['LastName_FirstName']\n",
        "print(current_person)\n",
        "data_so_far = {'AgeGroup':all_data[0]['AgeGroup'],'AmountImprovedSec':all_data[0]['AmountImprovedSec'],'Strokes':{}}\n",
        "for i in range(0,len(all_data)):\n",
        "  if all_data[i]['LastName_FirstName'] != current_person:\n",
        "    current_person = all_data[i]['LastName_FirstName']\n",
        "    data_so_far = {'AgeGroup':all_data[i]['AgeGroup'],'Strokes':{}}\n",
        "    new_data[current_person] = data_so_far\n",
        "  data_so_far['Strokes'][all_data[i]['EventStroke']] = [all_data[i][f'Meet{x+1}-ResultSec'] for x in range(0,8)]"
      ],
      "metadata": {
        "id": "eSzm1h46X6dS"
      },
      "execution_count": null,
      "outputs": []
    },
    {
      "cell_type": "code",
      "source": [
        "new_data"
      ],
      "metadata": {
        "id": "xXq7nxb-LspA"
      },
      "execution_count": null,
      "outputs": []
    },
    {
      "cell_type": "code",
      "source": [
        "groups = {}\n",
        "for person in new_data.keys():\n",
        "  try:\n",
        "    groups[new_data[person]['AgeGroup']] +=1\n",
        "  except:\n",
        "    groups[new_data[person]['AgeGroup']] = 1"
      ],
      "metadata": {
        "id": "4oVjiF_xVBuG"
      },
      "execution_count": null,
      "outputs": []
    },
    {
      "cell_type": "code",
      "source": [
        "print(groups)\n",
        "print(len(new_data.keys()))"
      ],
      "metadata": {
        "id": "JbUz97LKf1O1"
      },
      "execution_count": null,
      "outputs": []
    },
    {
      "cell_type": "code",
      "source": [
        "import matplotlib.pyplot as plt\n",
        "import numpy as np\n",
        "labels = [str(list(groups.keys())[x]) +' : ' + str(list(groups.values())[x]) for x in range(0,len(list(groups.keys())))]\n",
        "vals = list(groups.values())\n",
        "print(vals,labels)\n",
        "plt.pie(vals, labels= labels)\n",
        "plt.show()"
      ],
      "metadata": {
        "id": "_R9Kqu1Qf_mM"
      },
      "execution_count": null,
      "outputs": []
    },
    {
      "cell_type": "code",
      "source": [
        "import matplotlib.pyplot as plt\n",
        "import numpy as np\n",
        "labels = [str(list(groups.keys())[x]) +' : ' + str(list(groups.values())[x]) for x in range(0,len(list(groups.keys()))) if 'Boys' in str(list(groups.keys())[x]) or 'Men' in str(list(groups.keys())[x])]\n",
        "vals = [list(groups.values())[x] for x in range(0,len(list(groups.keys()))) if 'Boys' in str(list(groups.keys())[x]) or 'Men' in str(list(groups.keys())[x])]\n",
        "print(vals,labels)\n",
        "plt.pie(vals, labels= labels)\n",
        "plt.show()\n",
        "labels = [str(list(groups.keys())[x]) +' : ' + str(list(groups.values())[x]) for x in range(0,len(list(groups.keys()))) if 'Girls' in str(list(groups.keys())[x]) or 'Women' in str(list(groups.keys())[x])]\n",
        "vals = [list(groups.values())[x] for x in range(0,len(list(groups.keys()))) if 'Girls' in str(list(groups.keys())[x]) or 'Women' in str(list(groups.keys())[x])]\n",
        "print(vals,labels)\n",
        "plt.pie(vals, labels= labels)\n",
        "plt.show()"
      ],
      "metadata": {
        "id": "eH_PeHDEkxAI"
      },
      "execution_count": null,
      "outputs": []
    }
  ]
}