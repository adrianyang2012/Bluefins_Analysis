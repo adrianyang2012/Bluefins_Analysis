{
  "nbformat": 4,
  "nbformat_minor": 0,
  "metadata": {
    "colab": {
      "private_outputs": true,
      "provenance": [],
      "authorship_tag": "ABX9TyPfHSgDBnfb2XHttk8+79TS",
      "include_colab_link": true
    },
    "kernelspec": {
      "name": "python3",
      "display_name": "Python 3"
    },
    "language_info": {
      "name": "python"
    }
  },
  "cells": [
    {
      "cell_type": "markdown",
      "metadata": {
        "id": "view-in-github",
        "colab_type": "text"
      },
      "source": [
        "<a href=\"https://colab.research.google.com/github/adrianyang2012/Bluefins_Analysis/blob/main/Bluefins_anaylsis.ipynb\" target=\"_parent\"><img src=\"https://colab.research.google.com/assets/colab-badge.svg\" alt=\"Open In Colab\"/></a>"
      ]
    },
    {
      "cell_type": "markdown",
      "source": [
        "Reading in the data"
      ],
      "metadata": {
        "id": "R_04UooGSSaH"
      }
    },
    {
      "cell_type": "code",
      "execution_count": null,
      "metadata": {
        "id": "tGrFZ9YiNrT2"
      },
      "outputs": [],
      "source": [
        "import csv\n",
        "with open(\"newarkbluefins_athlete_report_card_240518165043.csv\",\"r\") as file:\n",
        "  all_data = list(csv.DictReader(file))\n"
      ]
    },
    {
      "cell_type": "code",
      "source": [
        "print(len(all_data))"
      ],
      "metadata": {
        "id": "47eIO1XuSP-e"
      },
      "execution_count": null,
      "outputs": []
    },
    {
      "cell_type": "markdown",
      "source": [
        "Changing data to new format"
      ],
      "metadata": {
        "id": "GO82cUrdkekD"
      }
    },
    {
      "cell_type": "code",
      "source": [
        "new_data = {}\n",
        "current_person = all_data[0]['LastName_FirstName']\n",
        "data_so_far = {'AgeGroup':all_data[0]['AgeGroup'],'AmountImprovedSec':all_data[0]['AmountImprovedSec'],'Strokes':{}}\n",
        "for i in range(0,len(all_data)):\n",
        "  if all_data[i]['LastName_FirstName'] != current_person:\n",
        "    new_data[current_person] = data_so_far\n",
        "    current_person = all_data[i]['LastName_FirstName']\n",
        "    data_so_far = {'AgeGroup':all_data[i]['AgeGroup'],'Strokes':{}}\n",
        "\n",
        "\n",
        "  data_so_far['Strokes'][all_data[i]['EventStroke']] = [all_data[i][f'Meet{x+1}-ResultSec'] for x in range(0,8)]"
      ],
      "metadata": {
        "id": "eSzm1h46X6dS"
      },
      "execution_count": null,
      "outputs": []
    },
    {
      "cell_type": "code",
      "source": [
        "#new_data"
      ],
      "metadata": {
        "id": "xXq7nxb-LspA"
      },
      "execution_count": null,
      "outputs": []
    },
    {
      "cell_type": "markdown",
      "source": [
        "Visualizing what groups have how much swimmers"
      ],
      "metadata": {
        "id": "0FGC1Sn2khrs"
      }
    },
    {
      "cell_type": "code",
      "source": [
        "groups = {}\n",
        "for person in new_data.keys():\n",
        "  try:\n",
        "    groups[new_data[person]['AgeGroup']] +=1\n",
        "  except:\n",
        "    groups[new_data[person]['AgeGroup']] = 1"
      ],
      "metadata": {
        "id": "4oVjiF_xVBuG"
      },
      "execution_count": null,
      "outputs": []
    },
    {
      "cell_type": "code",
      "source": [
        "#print(groups)\n",
        "#print(len(new_data.keys()))"
      ],
      "metadata": {
        "id": "JbUz97LKf1O1"
      },
      "execution_count": null,
      "outputs": []
    },
    {
      "cell_type": "markdown",
      "source": [
        "Pie chart for all groups"
      ],
      "metadata": {
        "id": "aw_0G7vpkoob"
      }
    },
    {
      "cell_type": "code",
      "source": [
        "import matplotlib.pyplot as plt\n",
        "import numpy as np\n",
        "labels = [str(list(groups.keys())[x]) +' : ' + str(list(groups.values())[x]) for x in range(0,len(list(groups.keys())))]\n",
        "vals = list(groups.values())\n",
        "#print(vals,labels)\n",
        "plt.pie(vals, labels= labels)\n",
        "plt.title('Pie chart for all groups')\n",
        "plt.show()"
      ],
      "metadata": {
        "id": "_R9Kqu1Qf_mM"
      },
      "execution_count": null,
      "outputs": []
    },
    {
      "cell_type": "markdown",
      "source": [
        "**Pie chart for girls and boys**"
      ],
      "metadata": {
        "id": "mZ1JFrc3ks9M"
      }
    },
    {
      "cell_type": "code",
      "source": [
        "import matplotlib.pyplot as plt\n",
        "import numpy as np\n",
        "boy_labels = [str(list(groups.keys())[x]) +' : ' + str(list(groups.values())[x]) for x in range(0,len(list(groups.keys()))) if 'Boys' in str(list(groups.keys())[x]) or 'Men' in str(list(groups.keys())[x])]\n",
        "boy_vals = [list(groups.values())[x] for x in range(0,len(list(groups.keys()))) if 'Boys' in str(list(groups.keys())[x]) or 'Men' in str(list(groups.keys())[x])]\n",
        "#print(boy_vals,labels)\n",
        "plt.pie(boy_vals, labels= boy_labels)\n",
        "plt.title('Pie chart for boys')\n",
        "plt.show()\n",
        "girl_labels = [str(list(groups.keys())[x]) +' : ' + str(list(groups.values())[x]) for x in range(0,len(list(groups.keys()))) if 'Girls' in str(list(groups.keys())[x]) or 'Women' in str(list(groups.keys())[x])]\n",
        "girl_vals = [list(groups.values())[x] for x in range(0,len(list(groups.keys()))) if 'Girls' in str(list(groups.keys())[x]) or 'Women' in str(list(groups.keys())[x])]\n",
        "#print(vals,labels)\n",
        "print('  ')\n",
        "plt.pie(girl_vals, labels= girl_labels)\n",
        "plt.title('Pie chart for girls')\n",
        "\n",
        "plt.show()"
      ],
      "metadata": {
        "id": "eH_PeHDEkxAI"
      },
      "execution_count": null,
      "outputs": []
    },
    {
      "cell_type": "markdown",
      "source": [
        "Seeing how much girls and boys each"
      ],
      "metadata": {
        "id": "ohRo3GLykVIt"
      }
    },
    {
      "cell_type": "code",
      "source": [
        "boys = 0\n",
        "girls = 0\n",
        "for i in range(0,len(list(new_data.values()))):\n",
        "  if 'Boys' in list(new_data.values())[i]['AgeGroup'] or 'Men' in list(new_data.values())[i]['AgeGroup']:\n",
        "    boys+=1\n",
        "  else:\n",
        "    girls+=1\n",
        "print(boys, girls)"
      ],
      "metadata": {
        "id": "AAVxoZWKQixb"
      },
      "execution_count": null,
      "outputs": []
    },
    {
      "cell_type": "code",
      "source": [
        "age_groups = {'06 & Under Girls':[],'06 & Under Boys':[],'07-08 Girls':[],'07-08 Boys':[],'09-10 Boys':[],'09-10 Girls':[],'11-12 Boys':[],'11-12 Girls':[],'13-14 Boys':[],'13-14 Girls':[],'15-18 Men':[],'15-18 Women':[]}\n",
        "for name in new_data.keys():\n",
        "  age_groups[new_data[name]['AgeGroup']].append(name)"
      ],
      "metadata": {
        "id": "Id_KlYE3gTnm"
      },
      "execution_count": null,
      "outputs": []
    },
    {
      "cell_type": "code",
      "source": [
        "age_groups"
      ],
      "metadata": {
        "id": "eOo8Itswhgmt"
      },
      "execution_count": null,
      "outputs": []
    },
    {
      "cell_type": "code",
      "source": [
        "import io\n",
        "import pandas as pd\n",
        "stuff =pd.read_csv(io.StringIO('''\n",
        "2023 EBSL 6U,Girls,Boys\n",
        "Free-Top 10,28.03,29.34\n",
        "Free-Top 30,41.28,57.23\n",
        "BK-Top 10,32.38,24.75\n",
        "BK-Top 30,53.5,31.74\n",
        "2023 EBSL 7-8,Girls,Boys\n",
        "Free-Top 10,19.63,19.11\n",
        "Free-Top 30,22.49,24.01\n",
        "BK-Top 10,24.46,24.75\n",
        "BK-Top 30,28.37,31.74\n",
        "BR-Top 10,27.66,27.54\n",
        "BR-Top 30,39.83,46.02\n",
        "Fly-Top 10,23.51,26.27\n",
        "Fly-Top 30,32.2,48.21\n",
        "2023 EBSL 9-10,Girls,Boys\n",
        "Free-Top 10,15.93,15.66\n",
        "Free-Top 30,17.49,17.76\n",
        "BK-Top 10,19.54,20.48\n",
        "BK-Top 30,22.96,25.08\n",
        "BR-Top 10,21.94,22.5\n",
        "BR-Top 30,25.9,26.9\n",
        "Fly-Top 10,18.08,18.32\n",
        "Fly-Top 30,22.16,23.4\n",
        "2023 EBSL 11-12,Girls,Boys\n",
        "Free-Top 10,31.9,30.63\n",
        "Free-Top 30,35.62,34.35\n",
        "BK-Top 10,38.09,38.46\n",
        "BK-Top 30,44.75,45.02\n",
        "BR-Top 10,43.34,42.42\n",
        "BR-Top 30,51.09,58.75\n",
        "Fly-Top 10,35.98,34.82\n",
        "Fly-Top 30,43.43,42.31\n",
        "IM-Top 10,80.17,80.34\n",
        "IM-Top 30,93.73,106.5\n",
        "2023 EBSL 13-14,Girls,Boys\n",
        "Free-Top 10,30.54,26.8\n",
        "Free-Top 30,33.31,31.43\n",
        "BK-Top 10,37.93,33.33\n",
        "BK-Top 30,43.13,39.42\n",
        "BR-Top 10,38.28,36.17\n",
        "BR-Top 30,45.12,43.07\n",
        "Fly-Top 10,33.89,31.12\n",
        "Fly-Top 30,40.33,40\n",
        "IM-Top 10,76.37,69.77\n",
        "IM-Top 30,88.31,77.11\n",
        "2023 EBSL 15-18,Women,Men\n",
        "Free-Top 10,27.48,23.4\n",
        "Free-Top 30,29.87,25.84\n",
        "BK-Top 10,33.24,28.11\n",
        "BK-Top 30,36.93,36.16\n",
        "BR-Top 10,37.2,31.42\n",
        "BR-Top 30,41.49,34.68\n",
        "Fly-Top 10,30.91,25.43\n",
        "Fly-Top 30,34.47,28.65\n",
        "IM-Top 10,69.01,60.97\n",
        "IM-Top 30,76.84,68.05\n",
        "'''.replace('BK','Backstroke').replace('Free','Freestyle').replace('BR','Breaststroke')), header=None)\n",
        "rows = list(stuff[0])\n",
        "times = {}\n",
        "for i in range(0,len(rows)):\n",
        "  if 'EBSL' in rows[i]:\n",
        "    current_group = rows[i]\n",
        "    times[current_group] = {}\n",
        "  else:\n",
        "    times[current_group][rows[i]] = [stuff[1][i],stuff[2][i]]\n",
        "times"
      ],
      "metadata": {
        "id": "qN29HyXRj5Iv"
      },
      "execution_count": null,
      "outputs": []
    },
    {
      "cell_type": "code",
      "source": [
        "new_times = {}\n",
        "for group in times:\n",
        "  boys = {}\n",
        "  girls = {}\n",
        "  for stroke in times[group]:\n",
        "    print(times[group][stroke])"
      ],
      "metadata": {
        "id": "NuutH2G_eWkY"
      },
      "execution_count": null,
      "outputs": []
    },
    {
      "cell_type": "code",
      "source": [
        "import pandas as pd\n",
        "import warnings\n",
        "warnings.filterwarnings('ignore')\n",
        "print('* stands for fastest time in the group')\n",
        "df_all_data = []\n",
        "for group in age_groups.keys():\n",
        "  df = pd.DataFrame({'Name':[],'Freestyle':[],'Backstroke':[],'Breaststroke':[],'Butterfly':[],'IM':[]})\n",
        "  df_data = pd.DataFrame({'Name':[],'Freestyle':[],'Backstroke':[],'Breaststroke':[],'Butterfly':[],'IM':[]})\n",
        "  fastest_free = float('inf')\n",
        "  fastest_free_person = 'Nobody'\n",
        "  fastest_back = float('inf')\n",
        "  fastest_back_person = 'Nobody'\n",
        "  fastest_breast = float('inf')\n",
        "  fastest_breast_person = 'Nobody'\n",
        "  fastest_fly = float('inf')\n",
        "  fastest_fly_person = 'Nobody'\n",
        "  fastest_IM = float('inf')\n",
        "  fastest_IM_person = 'Nobody'\n",
        "  for name in age_groups[group]:\n",
        "    my_dict = {'Name':name}\n",
        "    if 'Free' in dict(new_data[name])['Strokes'].keys():\n",
        "      my_dict['Freestyle'] = str(min([float(x) if x != '' else float('inf') for x in dict(new_data[name])['Strokes']['Free']]))\n",
        "      if float(my_dict['Freestyle']) < fastest_free:\n",
        "        fastest_free = float(my_dict['Freestyle'])\n",
        "        fastest_free_person = name\n",
        "    if 'Back' in dict(new_data[name])['Strokes'].keys():\n",
        "      my_dict['Backstroke'] = str(min([float(x) if x != '' else float('inf') for x in dict(new_data[name])['Strokes']['Back']]))\n",
        "      if float(my_dict['Backstroke']) < fastest_back:\n",
        "        fastest_back = float(my_dict['Backstroke'])\n",
        "        fastest_back_person = name\n",
        "    if 'Breast' in dict(new_data[name])['Strokes'].keys():\n",
        "      my_dict['Breaststroke'] = str(min([float(x) if x != '' else float('inf') for x in dict(new_data[name])['Strokes']['Breast']]))\n",
        "      if float(my_dict['Breaststroke']) < fastest_breast:\n",
        "        fastest_breast = float(my_dict['Breaststroke'])\n",
        "        fastest_breast_person = name\n",
        "    if 'Fly' in dict(new_data[name])['Strokes'].keys():\n",
        "      my_dict['Butterfly'] = str(min([float(x) if x != '' else float('inf') for x in dict(new_data[name])['Strokes']['Fly']]))\n",
        "      if float(my_dict['Butterfly']) < fastest_fly:\n",
        "        fastest_fly = float(my_dict['Butterfly'])\n",
        "        fastest_fly_person = name\n",
        "    if 'IM' in dict(new_data[name])['Strokes'].keys():\n",
        "\n",
        "      my_dict['IM'] = str(min([float(x) if x != '' else float('inf') for x in dict(new_data[name])['Strokes']['IM']]))\n",
        "      if float(my_dict['IM']) < fastest_IM:\n",
        "        fastest_IM = float(my_dict['IM'])\n",
        "        fastest_IM_person = name\n",
        "    df_data.loc[len(df)] = my_dict\n",
        "    strokes_they_swam = list(my_dict.keys())\n",
        "    strokes_they_swam.remove('Name')\n",
        "    for stroke in strokes_they_swam:\n",
        "      if my_dict[stroke] < times[group][f'{stroke}-Top 30']:\n",
        "        if my_dict[stroke] < times[group][f'{stroke}-Top 10']:\n",
        "          my_dict[stroke] = str(my_dict[stroke]) + '!'\n",
        "        else:\n",
        "          my_dict[stroke] = str(my_dict[stroke]) + '~'\n",
        "    df.loc[len(df)] = my_dict\n",
        "\n",
        "  print()\n",
        "  print(group)\n",
        "  print()\n",
        "  df['Freestyle'][[x[0] for x in df.values].index(fastest_free_person)] = df['Freestyle'][[x[0] for x in df.values].index(fastest_free_person)]+'*'\n",
        "  df['Backstroke'][[x[0] for x in df.values].index(fastest_back_person)] = df['Backstroke'][[x[0] for x in df.values].index(fastest_back_person)]+'*'\n",
        "  if not fastest_breast_person == 'Nobody':\n",
        "    df['Breaststroke'][[x[0] for x in df.values].index(fastest_breast_person)] = df['Breaststroke'][[x[0] for x in df.values].index(fastest_breast_person)]+'*'\n",
        "  if not fastest_fly_person == 'Nobody':\n",
        "    df['Butterfly'][[x[0] for x in df.values].index(fastest_fly_person)] = df['Butterfly'][[x[0] for x in df.values].index(fastest_fly_person)]+'*'\n",
        "  if not fastest_IM_person == 'Nobody':\n",
        "    df['IM'][[x[0] for x in df.values].index(fastest_IM_person)] = df['IM'][[x[0] for x in df.values].index(fastest_IM_person)]+'*'\n",
        "\n",
        "  #print('Fastest times')\n",
        "  #print()\n",
        "  #print('Free: '+fastest_free_person+' with '+str(fastest_free))\n",
        "  #print('Back: '+fastest_back_person+' with '+str(fastest_back))\n",
        "  #print('Breast: '+fastest_breast_person+' with '+str(fastest_breast))\n",
        "  #print('Fly: '+fastest_fly_person+' with '+str(fastest_fly))\n",
        "  #print('IM: '+fastest_IM_person+' with '+str(fastest_IM))\n",
        "  print(df.to_markdown())\n",
        "  df_all_data.append(df_data)"
      ],
      "metadata": {
        "id": "ceeMVGeTfigT"
      },
      "execution_count": null,
      "outputs": []
    },
    {
      "cell_type": "code",
      "source": [
        "point_earners = []\n",
        "super_point_earners = []\n",
        "for age_group_data in df_all_data:\n",
        "  for i in range(1,len(age_group_data['Name'])+1):\n",
        "    strokes = ['Freestyle','Backstroke','Breaststroke','Butterfly','IM']\n",
        "    strokes_format_2 = ['Free','BK','BR','Fly','IM']\n",
        "    for stroke in strokes_format_2:\n",
        "      try:\n",
        "        age_group = '2023 EBSL '+ new_data[age_group_data['Name'][i]]['AgeGroup'].replace(' Women','').replace(' Men','').replace(' Boys','').replace(' Girls','').replace('06 & Under','6U').replace('07','7').replace('08','8').replace('09','9')\n",
        "        if 'Boys' in new_data[age_group_data['Name'][i]]['AgeGroup'] or 'Men' in new_data[age_group_data['Name'][i]]['AgeGroup']:\n",
        "          top_30 = times[age_group][f'{stroke}-Top 30'][0]\n",
        "          top_10 = times[age_group][f'{stroke}-Top 10'][0]\n",
        "        else:\n",
        "          top_30 = times[age_group][f'{stroke}-Top 30'][1]\n",
        "          top_10 = times[age_group][f'{stroke}-Top 10'][1]\n",
        "        #print(float(age_group_data.loc[i]['Freestyle']))\n",
        "        if float(top_30) > float(age_group_data.loc[i][strokes[strokes_format_2.index(stroke)]]):\n",
        "          point_earners.append(age_group_data['Name'][i] + ' ' + strokes[strokes_format_2.index(stroke)])\n",
        "          if float(top_10) > float(age_group_data.loc[i][strokes[strokes_format_2.index(stroke)]]):\n",
        "            super_point_earners.append(age_group_data['Name'][i] + ' ' + strokes[strokes_format_2.index(stroke)])\n",
        "      except:\n",
        "        pass\n",
        "print(len(point_earners))\n",
        "print(len(super_point_earners))"
      ],
      "metadata": {
        "id": "aCbaj-KoWZCJ"
      },
      "execution_count": null,
      "outputs": []
    },
    {
      "cell_type": "code",
      "source": [
        "super_point_earners"
      ],
      "metadata": {
        "id": "SwSDQ58Vpc3A"
      },
      "execution_count": null,
      "outputs": []
    },
    {
      "cell_type": "code",
      "source": [
        "once = []\n",
        "twice = []\n",
        "three_times = []\n",
        "#four_times = 0\n",
        "def find_how_many_got_contained(li,string):\n",
        "  count = 0\n",
        "  for i in range(0,len(li)):\n",
        "    if string in li[i]:\n",
        "      count+=1\n",
        "  return count\n",
        "for person in list(new_data.keys()):\n",
        "  if find_how_many_got_contained(point_earners,person) > 0:\n",
        "    once.append(person)\n",
        "    if find_how_many_got_contained(point_earners,person) > 1:\n",
        "      twice.append(person)\n",
        "      if find_how_many_got_contained(point_earners,person) >2:\n",
        "        three_times.append(person)\n",
        "\n",
        "print(once, twice, three_times)"
      ],
      "metadata": {
        "id": "vZ9AEdcmkAHR"
      },
      "execution_count": null,
      "outputs": []
    },
    {
      "cell_type": "code",
      "source": [
        "top_30_once = []\n",
        "top_30_twice = []\n",
        "top_30_three_times = []\n",
        "#four_times = 0\n",
        "def find_how_many_got_contained(li,string):\n",
        "  count = 0\n",
        "  for i in range(0,len(li)):\n",
        "    if string in li[i]:\n",
        "      count+=1\n",
        "  return count\n",
        "for person in list(new_data.keys()):\n",
        "  if find_how_many_got_contained(point_earners,person) > 0:\n",
        "    top_30_once.append(person)\n",
        "    if find_how_many_got_contained(point_earners,person) > 1:\n",
        "      top_30_twice.append(person)\n",
        "      if find_how_many_got_contained(point_earners,person) >2:\n",
        "        top_30_three_times.append(person)\n",
        "\n",
        "print(len(top_30_once), len(top_30_twice), len(top_30_three_times))"
      ],
      "metadata": {
        "id": "PkxUY4lhoihQ"
      },
      "execution_count": null,
      "outputs": []
    },
    {
      "cell_type": "code",
      "source": [
        "three_times"
      ],
      "metadata": {
        "id": "LolGvilXo2we"
      },
      "execution_count": null,
      "outputs": []
    },
    {
      "cell_type": "code",
      "source": [
        "top_10_once = []\n",
        "top_10_twice = []\n",
        "top_10_three_times = []\n",
        "#four_times = 0\n",
        "def find_how_many_got_contained(li,string):\n",
        "  count = 0\n",
        "  for i in range(0,len(li)):\n",
        "    if string in li[i]:\n",
        "      count+=1\n",
        "  return count\n",
        "for person in list(new_data.keys()):\n",
        "  if find_how_many_got_contained(super_point_earners,person) > 0:\n",
        "    top_10_once.append(person)\n",
        "    if find_how_many_got_contained(super_point_earners,person) > 1:\n",
        "      top_10_twice.append(person)\n",
        "      if find_how_many_got_contained(super_point_earners,person) >2:\n",
        "        top_10_three_times.append(person)\n",
        "\n",
        "print(len(top_10_once), len(top_10_twice), len(top_10_three_times))"
      ],
      "metadata": {
        "id": "nKxuha9Qoqh3"
      },
      "execution_count": null,
      "outputs": []
    },
    {
      "cell_type": "code",
      "source": [
        "top_10_each_group = {}\n",
        "top_30_each_group = {}\n",
        "for person in top_30_once:\n",
        "  if new_data[person]['AgeGroup'] in top_30_each_group.keys():\n",
        "    top_30_each_group[new_data[person]['AgeGroup']].append(person)\n",
        "  else:\n",
        "    top_30_each_group[new_data[person]['AgeGroup']] = [person]"
      ],
      "metadata": {
        "id": "2I2hJ7VmpK6H"
      },
      "execution_count": null,
      "outputs": []
    },
    {
      "cell_type": "code",
      "source": [
        "for person in top_10_once:\n",
        "  if new_data[person]['AgeGroup'] in top_10_each_group.keys():\n",
        "    top_10_each_group[new_data[person]['AgeGroup']].append(person)\n",
        "  else:\n",
        "    top_10_each_group[new_data[person]['AgeGroup']] = [person]"
      ],
      "metadata": {
        "id": "p0xwKZFoTpRe"
      },
      "execution_count": null,
      "outputs": []
    },
    {
      "cell_type": "code",
      "source": [
        "top_10_each_group"
      ],
      "metadata": {
        "id": "r6nel01bTTGF"
      },
      "execution_count": null,
      "outputs": []
    },
    {
      "cell_type": "code",
      "source": [
        "plt.pie([len(x) for x in top_10_each_group.values()],labels = [x+' : '+str(len(top_10_each_group[x])) for x in top_10_each_group.keys()])\n",
        "plt.title('top 10 times')\n",
        "plt.show()\n",
        "plt.pie([len(x) for x in top_30_each_group.values() ],labels = [x+' : '+str(len(top_30_each_group[x])) for x in top_30_each_group.keys()])\n",
        "plt.title('top 30 times')\n",
        "plt.show()\n",
        "plt.pie([len(top_10_each_group[list(top_10_each_group.keys())[i]])/groups[list(top_10_each_group.keys())[i]] for i in range(0, len(top_10_each_group.keys()))],labels = [x for x in top_10_each_group.keys()])\n",
        "plt.title('ratio of top 10 times to size_of_group')\n",
        "plt.show()\n",
        "plt.pie([len(top_30_each_group[list(top_30_each_group.keys())[i]])/groups[list(top_30_each_group.keys())[i]] for i in range(0, len(top_30_each_group.keys())) ],labels = [x for x in top_30_each_group.keys()])\n",
        "plt.title('ratio of top 30 times to size_of_group')\n",
        "plt.show()"
      ],
      "metadata": {
        "id": "9hVvHn0cVyqN"
      },
      "execution_count": null,
      "outputs": []
    },
    {
      "cell_type": "code",
      "source": [
        "top_10_each_group"
      ],
      "metadata": {
        "id": "mEPJmq7zkhZL"
      },
      "execution_count": null,
      "outputs": []
    },
    {
      "cell_type": "code",
      "source": [
        "# https://stackoverflow.com/questions/18528533/pretty-printing-a-pandas-dataframe"
      ],
      "metadata": {
        "id": "1Yl03FLRp77L"
      },
      "execution_count": null,
      "outputs": []
    }
  ]
}