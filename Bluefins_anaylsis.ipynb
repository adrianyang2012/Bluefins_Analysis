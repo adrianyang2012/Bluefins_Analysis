{
  "nbformat": 4,
  "nbformat_minor": 0,
  "metadata": {
    "colab": {
      "private_outputs": true,
      "provenance": [],
      "gpuType": "T4",
      "authorship_tag": "ABX9TyPCrEHEzZfxKnp2PJMzg7GI",
      "include_colab_link": true
    },
    "kernelspec": {
      "name": "python3",
      "display_name": "Python 3"
    },
    "language_info": {
      "name": "python"
    },
    "accelerator": "GPU"
  },
  "cells": [
    {
      "cell_type": "markdown",
      "metadata": {
        "id": "view-in-github",
        "colab_type": "text"
      },
      "source": [
        "<a href=\"https://colab.research.google.com/github/adrianyang2012/Bluefins_Analysis/blob/main/Bluefins_anaylsis.ipynb\" target=\"_parent\"><img src=\"https://colab.research.google.com/assets/colab-badge.svg\" alt=\"Open In Colab\"/></a>"
      ]
    },
    {
      "cell_type": "markdown",
      "source": [
        "Reading in the data"
      ],
      "metadata": {
        "id": "R_04UooGSSaH"
      }
    },
    {
      "cell_type": "code",
      "execution_count": null,
      "metadata": {
        "id": "tGrFZ9YiNrT2"
      },
      "outputs": [],
      "source": [
        "import csv\n",
        "with open(\"newarkbluefins_athlete_report_card_240518165043.csv\",\"r\") as file:\n",
        "  all_data = list(csv.DictReader(file))\n"
      ]
    },
    {
      "cell_type": "code",
      "source": [
        "print(len(all_data))"
      ],
      "metadata": {
        "id": "47eIO1XuSP-e"
      },
      "execution_count": null,
      "outputs": []
    },
    {
      "cell_type": "markdown",
      "source": [
        "Changing data to new format"
      ],
      "metadata": {
        "id": "GO82cUrdkekD"
      }
    },
    {
      "cell_type": "code",
      "source": [
        "new_data = {}\n",
        "current_person = all_data[0]['LastName_FirstName']\n",
        "data_so_far = {'AgeGroup':all_data[0]['AgeGroup'],'AmountImprovedSec':all_data[0]['AmountImprovedSec'],'Strokes':{}}\n",
        "for i in range(0,len(all_data)):\n",
        "  if all_data[i]['LastName_FirstName'] != current_person:\n",
        "    new_data[current_person] = data_so_far\n",
        "    current_person = all_data[i]['LastName_FirstName']\n",
        "    data_so_far = {'AgeGroup':all_data[i]['AgeGroup'],'Strokes':{}}\n",
        "\n",
        "\n",
        "  data_so_far['Strokes'][all_data[i]['EventStroke']] = [all_data[i][f'Meet{x+1}-ResultSec'] for x in range(0,8)]"
      ],
      "metadata": {
        "id": "eSzm1h46X6dS"
      },
      "execution_count": null,
      "outputs": []
    },
    {
      "cell_type": "code",
      "source": [
        "#new_data"
      ],
      "metadata": {
        "id": "xXq7nxb-LspA"
      },
      "execution_count": null,
      "outputs": []
    },
    {
      "cell_type": "markdown",
      "source": [
        "Visualizing what groups have how much swimmers"
      ],
      "metadata": {
        "id": "0FGC1Sn2khrs"
      }
    },
    {
      "cell_type": "code",
      "source": [
        "groups = {}\n",
        "for person in new_data.keys():\n",
        "  try:\n",
        "    groups[new_data[person]['AgeGroup']] +=1\n",
        "  except:\n",
        "    groups[new_data[person]['AgeGroup']] = 1"
      ],
      "metadata": {
        "id": "4oVjiF_xVBuG"
      },
      "execution_count": null,
      "outputs": []
    },
    {
      "cell_type": "code",
      "source": [
        "#print(groups)\n",
        "#print(len(new_data.keys()))"
      ],
      "metadata": {
        "id": "JbUz97LKf1O1"
      },
      "execution_count": null,
      "outputs": []
    },
    {
      "cell_type": "markdown",
      "source": [
        "Pie chart for all groups"
      ],
      "metadata": {
        "id": "aw_0G7vpkoob"
      }
    },
    {
      "cell_type": "code",
      "source": [
        "import matplotlib.pyplot as plt\n",
        "import numpy as np\n",
        "labels = [str(list(groups.keys())[x]) +' : ' + str(list(groups.values())[x]) for x in range(0,len(list(groups.keys())))]\n",
        "vals = list(groups.values())\n",
        "#print(vals,labels)\n",
        "plt.pie(vals, labels= labels)\n",
        "plt.title('Pie chart for all groups')\n",
        "plt.show()"
      ],
      "metadata": {
        "id": "_R9Kqu1Qf_mM"
      },
      "execution_count": null,
      "outputs": []
    },
    {
      "cell_type": "markdown",
      "source": [
        "**Pie chart for girls and boys**"
      ],
      "metadata": {
        "id": "mZ1JFrc3ks9M"
      }
    },
    {
      "cell_type": "code",
      "source": [
        "import matplotlib.pyplot as plt\n",
        "import numpy as np\n",
        "boy_labels = [str(list(groups.keys())[x]) +' : ' + str(list(groups.values())[x]) for x in range(0,len(list(groups.keys()))) if 'Boys' in str(list(groups.keys())[x]) or 'Men' in str(list(groups.keys())[x])]\n",
        "boy_vals = [list(groups.values())[x] for x in range(0,len(list(groups.keys()))) if 'Boys' in str(list(groups.keys())[x]) or 'Men' in str(list(groups.keys())[x])]\n",
        "#print(boy_vals,labels)\n",
        "plt.pie(boy_vals, labels= boy_labels)\n",
        "plt.title('Pie chart for boys')\n",
        "plt.show()\n",
        "girl_labels = [str(list(groups.keys())[x]) +' : ' + str(list(groups.values())[x]) for x in range(0,len(list(groups.keys()))) if 'Girls' in str(list(groups.keys())[x]) or 'Women' in str(list(groups.keys())[x])]\n",
        "girl_vals = [list(groups.values())[x] for x in range(0,len(list(groups.keys()))) if 'Girls' in str(list(groups.keys())[x]) or 'Women' in str(list(groups.keys())[x])]\n",
        "#print(vals,labels)\n",
        "print('  ')\n",
        "plt.pie(girl_vals, labels= girl_labels)\n",
        "plt.title('Pie chart for girls')\n",
        "\n",
        "plt.show()"
      ],
      "metadata": {
        "id": "eH_PeHDEkxAI"
      },
      "execution_count": null,
      "outputs": []
    },
    {
      "cell_type": "markdown",
      "source": [
        "Seeing how much girls and boys each"
      ],
      "metadata": {
        "id": "ohRo3GLykVIt"
      }
    },
    {
      "cell_type": "code",
      "source": [
        "boys = 0\n",
        "girls = 0\n",
        "for i in range(0,len(list(new_data.values()))):\n",
        "  if 'Boys' in list(new_data.values())[i]['AgeGroup'] or 'Men' in list(new_data.values())[i]['AgeGroup']:\n",
        "    boys+=1\n",
        "  else:\n",
        "    girls+=1"
      ],
      "metadata": {
        "id": "AAVxoZWKQixb"
      },
      "execution_count": null,
      "outputs": []
    },
    {
      "cell_type": "code",
      "source": [
        "import pandas as pd\n",
        "df = pd.DataFrame({'Name':[],'Freestyle':[],'Backstroke':[],'Breaststroke':[],'Butterfly':[],'IM':[]})\n",
        "for name in new_data.keys():\n",
        "  my_dict = {'Name':name}\n",
        "  if 'Free' in dict(new_data[name])['Strokes'].keys():\n",
        "    my_dict['Freestyle'] = min([float(x) if x != '' else float('inf') for x in dict(new_data[name])['Strokes']['Free']])\n",
        "  if 'Back' in dict(new_data[name])['Strokes'].keys():\n",
        "    my_dict['Backstroke'] = min([float(x) if x != '' else float('inf') for x in dict(new_data[name])['Strokes']['Back']])\n",
        "  if 'Breast' in dict(new_data[name])['Strokes'].keys():\n",
        "    my_dict['Breaststroke'] = min([float(x) if x != '' else float('inf') for x in dict(new_data[name])['Strokes']['Breast']])\n",
        "  if 'Fly' in dict(new_data[name])['Strokes'].keys():\n",
        "    my_dict['Butterfly'] = min([float(x) if x != '' else float('inf') for x in dict(new_data[name])['Strokes']['Fly']])\n",
        "  if 'IM' in dict(new_data[name])['Strokes'].keys():\n",
        "    my_dict['IM'] = min([float(x) if x != '' else float('inf') for x in dict(new_data[name])['Strokes']['IM']])\n",
        "  df.loc[len(df)] = my_dict\n",
        "print(df.to_markdown())\n"
      ],
      "metadata": {
        "id": "ceeMVGeTfigT"
      },
      "execution_count": null,
      "outputs": []
    },
    {
      "cell_type": "code",
      "source": [
        "# https://stackoverflow.com/questions/18528533/pretty-printing-a-pandas-dataframe"
      ],
      "metadata": {
        "id": "1Yl03FLRp77L"
      },
      "execution_count": null,
      "outputs": []
    },
    {
      "cell_type": "code",
      "source": [
        "new_data[\"D'Amelio, Jimmy\"]"
      ],
      "metadata": {
        "id": "rk8SXJYeaZk_"
      },
      "execution_count": null,
      "outputs": []
    }
  ]
}